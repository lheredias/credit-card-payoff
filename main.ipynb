{
 "cells": [
  {
   "cell_type": "markdown",
   "metadata": {},
   "source": [
    "# Credit Card Payoff\n",
    "\n",
    "Credit cards may set a minimum monthly payment - or floor - but paying the minimum each month does not guarantee that you are going to go debt free anytime soon, so how much should you pay in a monthly basis in order to payoff your credit card after $n$ months?\n",
    "\n",
    "Let's approach this question from two angles: \n",
    "\n",
    "1. Pure mathematical, using geometric series.\n",
    "2. Computing, using a popular sorting algorithm known as bisection search.  \n",
    "\n",
    "## Mathematical approach\n",
    "\n",
    "let $i$ be the annual interest rate divided by 12 (monthly interest rate)\n",
    "\n",
    "let $a$ = $i+1$\n",
    "\n",
    "let $b_0$ be the initial balance\n",
    "\n",
    "let $n$ be the number of months\n",
    "\n",
    "let $p$ be the constant monthly payments\n",
    "\n",
    "let $b_n$ be the balance after $n$ months\n",
    "\n",
    "Thus, the balance at month $n$ is given by:\n",
    "\n",
    "$$b_n=(b_{n-1}-p).a$$\n",
    "\n",
    "Balance after 1 month:\n",
    "$$b_1=(b_0-p).a$$\n",
    "$$b_1=b_0.a-p.a$$\n",
    "\n",
    "Balance after 2 months:\n",
    "$$b_2=(b_0.a-p.a-p).a$$\n",
    "$$b_2=b_0.a^2-p.a^2-p.a$$\n",
    "\n",
    "Balance after three months:\n",
    "$$b_3=(b_0.a^2-p.a^2-p.a-p).a$$\n",
    "$$b_3=b_0.a^3-p.a^3-p.a^2-p.a$$\n",
    "\n",
    "Therefore, the balance after $n$ months shall be given by:\n",
    "\n",
    "$$b_n=b_0.a^n - p.(a+a^2+a^3+...+a^n)$$\n",
    "\n",
    "Now, the expression that multiplies $p$ is a geometric series whose value can be obtained as follows:\n",
    "\n",
    "\n",
    "$$A=a+a^2+a^3+...+a^n$$\n",
    "$$a.A=a^2+a^3+...+a^{n+1}$$\n",
    "$$a.A-A=a^{n+1}-a$$\n",
    "$$A.(a-1)=a^{n+1}-a$$\n",
    "$$A=\\frac{a^{n+1}-a}{a-1}$$\n",
    "\n",
    "If we insert the previous output into our equation, we obtain:\n",
    "$$b_n=b_0.a^n - p.\\left(\\frac{a^{n+1}-a}{a-1}\\right)$$\n",
    "\n",
    "Since we aim to payoff our credit card in $n$ months, the balance at month $n$ must be zero, so let $b_n=0$ and solve for $p$ as follows:\n",
    "\n",
    "---\n",
    "$$p=\\frac{a^{n-1}.(a-1).b_0}{a^n-1}$$\n",
    "---\n",
    "\n",
    "The equation we have just derived answers our original question, which, translated into Python, looks like the function defined below."
   ]
  },
  {
   "cell_type": "code",
   "execution_count": 1,
   "metadata": {},
   "outputs": [],
   "source": [
    "\n",
    "def payoff_mathematical(n,b,i):\n",
    "    '''\n",
    "    Monthly payment to payoff a credit card in a given number of months,\n",
    "    using geometric series.\n",
    "    \n",
    "    n: number of months\n",
    "    b: initial balance\n",
    "    i: annual interest rate as decimal\n",
    "    \n",
    "    Returns: monthly payment (p)\n",
    "    '''\n",
    "    a=1+(i/12) \n",
    "    p=(b*(a-1)*(a**(n-1)))/(a**n-1)  \n",
    "    return round(p,2)\n"
   ]
  },
  {
   "cell_type": "markdown",
   "metadata": {},
   "source": [
    "## Computing approach\n",
    "\n",
    "Another way to solve our question is to try with many _monthly payments_ until we find an optimal solution, as in, start with a monthly payment of zero and keep adding 1 until our balance after $n$ months is (close to) zero. This approach, called linear search, is, as you might figure out, not very efficient. Fortunately though, there is a much more efficient alternative for finding the solution and it is called bisection search. \n",
    "\n",
    "What bisection search is going to do is: \n",
    "1. Create a limited, ordered set of possible monthly payments.\n",
    "2. Pick the $min$ and $max$ values and find a middle point ($\\frac{min+max}{2}$).\n",
    "3. Let $min=\\frac{b}{n}$ and $max=b$, as in, the min would be an scenario in which $i=0$ and the max an scenario in which you are forced to pay your whole balance in one month. \n",
    "4. Set the monthly payment, $p$, equal to that middle point.\n",
    "5. Calculate the balance after $n$ months with given monthly payment, $p$.\n",
    "6. If balance is still positive, set $min$ to current monthly payment, $p$.\n",
    "7. If balance is negative, set $max$ to current monthly payment, $p$. \n",
    "8. Find the new middle point and set the new monthly payment to this value.\n",
    "9. If the new monthly payment is equal to the previous monthly payment, we have found our solution and, although balance may not be equal to zero, it is going to be very close to it and any divergences will be due to decimal figures.\n",
    "10. If the aforementioned condition is not met, repeat the process.\n",
    "\n",
    "This approach is much more effective than linear search and, as shown in the plot below, we are likely to find the solution doing less iterations.\n",
    "\n"
   ]
  },
  {
   "cell_type": "code",
   "execution_count": 10,
   "metadata": {},
   "outputs": [
    {
     "data": {
      "image/png": "[encoded data removed]",
      "text/plain": [
       "<Figure size 1080x360 with 2 Axes>"
      ]
     },
     "metadata": {
      "needs_background": "light"
     },
     "output_type": "display_data"
    }
   ],
   "source": [
    "import matplotlib.pyplot as plt\n",
    "import numpy as np\n",
    "%matplotlib inline\n",
    "x = np.arange(1,100,0.1)\n",
    "y1 = np.log(x)\n",
    "y2 = 2*x\n",
    "fig, ((ax1, ax2)) = plt.subplots(1, 2, figsize=(15,5))\n",
    "\n",
    "ax1.plot(x, y1, \"om\",label=r\"Time complexity = $O(log n)$\")\n",
    "ax1.set_ylabel(\"Time\")\n",
    "ax1.set_xlabel(\"Iterations\")\n",
    "ax1.set_title(\"Bisection search\")\n",
    "ax2.plot(x, y2, \"o\",label=r\"Time complexity = $O(n)$\")\n",
    "ax2.set_title(\"Linear search\")\n",
    "ax2.set_ylabel(\"Time\")\n",
    "ax2.set_xlabel(\"Iterations\")\n",
    "ax1.legend(loc=\"upper left\")\n",
    "ax2.legend(loc=\"upper left\")\n",
    "fig.suptitle(\"Bisection vs Linear search\",fontsize=16)\n",
    "# plt.savefig(\"plot.png\")\n",
    "plt.show()"
   ]
  },
  {
   "cell_type": "markdown",
   "metadata": {},
   "source": [
    "Bisection search sounds fine so far but there is a trick: a **limited**, ordered set of possible solutions is required, but we are dealing with real numbers and thus, infinity. So, in order to work out this problem, we are going to limit our solutions to two decimal places and now we are (almost) good to go.\n",
    "\n",
    "One more thing to consider is that, even though we are working with numbers with two decimal figures, we are not likely to wind up with a final balance exatly equal to zero, but rather with a number like -0.023 or 0.014. This is precicesly why we check if the newly calculated monthly payment is equal to the previous one. If it is, then we have, indeed, found our answer.\n",
    "\n",
    "Translating these steps into Python, we obtain the following function:"
   ]
  },
  {
   "cell_type": "code",
   "execution_count": 5,
   "metadata": {},
   "outputs": [],
   "source": [
    "def payoff_programming(n,b,i):\n",
    "  '''\n",
    "  Calculates the monthly payment to payfoff a credit card \n",
    "  in a given number of months using bisection search.\n",
    "\n",
    "  n: number of months\n",
    "  b: initial balance\n",
    "  i: annual interest rate as decimal\n",
    "  \n",
    "  Returns: monthly payment (p)\n",
    "  '''\n",
    "  original_b=b\n",
    "  min=original_b/n\n",
    "  max=original_b\n",
    "  p=round(((max+min)/2),2)\n",
    "  while True:\n",
    "    previous_p=p\n",
    "    for month in range(n):\n",
    "      b=(b-p)*(1+(i/12))\n",
    "      b=(round(b,2))\n",
    "    if b>0:\n",
    "      min=p\n",
    "    elif b<0:\n",
    "      max=p\n",
    "    p=round(((max+min)/2),2)\n",
    "    \n",
    "    if p==previous_p:\n",
    "      return p\n",
    "    b=original_b "
   ]
  },
  {
   "cell_type": "markdown",
   "metadata": {},
   "source": [
    "Finally, we proceed to calculate our answers for $n=24$, $i=0.2$ and $b=5000$, making use of our two approaches."
   ]
  },
  {
   "cell_type": "code",
   "execution_count": 6,
   "metadata": {},
   "outputs": [
    {
     "name": "stdout",
     "output_type": "stream",
     "text": [
      "Mathematical approach: you must pay \u001b[1m250.31 USD\u001b[0m on a monthly basis in order to payoff your credit card in 24 months\n",
      "==================================================\n",
      "Programming approach: you must pay \u001b[1m250.31 USD\u001b[0m on a monthly basis in order to payoff your credit card in 24 months\n"
     ]
    }
   ],
   "source": [
    "n=24\n",
    "balance=5000\n",
    "annualInterestRate=0.2\n",
    "\n",
    "print(f\"Mathematical approach: you must pay \\033[1m{payoff_mathematical(n,balance,annualInterestRate)} USD\\033[0m on a monthly basis in order to payoff your credit card in {n} months\")\n",
    "print(\"=\"*50)\n",
    "print(f\"Programming approach: you must pay \\033[1m{payoff_programming(n,balance,annualInterestRate)} USD\\033[0m on a monthly basis in order to payoff your credit card in {n} months\")"
   ]
  },
  {
   "cell_type": "markdown",
   "metadata": {},
   "source": [
    "_Et voilà_, our mathematical and programming approaches yielded the same result."
   ]
  }
 ],
 "metadata": {
  "interpreter": {
   "hash": "98d162d72bf585ef788b58907cbae51362501e28c978312758d12f322de2c0f0"
  },
  "kernelspec": {
   "display_name": "Python 3.9.12 ('.venv': venv)",
   "language": "python",
   "name": "python3"
  },
  "language_info": {
   "codemirror_mode": {
    "name": "ipython",
    "version": 3
   },
   "file_extension": ".py",
   "mimetype": "text/x-python",
   "name": "python",
   "nbconvert_exporter": "python",
   "pygments_lexer": "ipython3",
   "version": "3.9.12"
  },
  "orig_nbformat": 4
 },
 "nbformat": 4,
 "nbformat_minor": 2
}
